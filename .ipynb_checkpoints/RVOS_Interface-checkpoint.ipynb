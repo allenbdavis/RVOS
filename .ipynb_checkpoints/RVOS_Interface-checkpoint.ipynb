{
 "cells": [
  {
   "cell_type": "code",
   "execution_count": 1,
   "metadata": {
    "collapsed": true
   },
   "outputs": [],
   "source": [
    "### Allen B Davis\n",
    "### Yale University\n",
    "###\n",
    "### First year project\n",
    "### Summer 2015\n",
    "\n",
    "# RVOS will create RV observations of a star with several planets, create a periodogram with FAP,\n",
    "# fit a Keplerian, and return uncertainties in the planet's mass and orbital parameters"
   ]
  },
  {
   "cell_type": "code",
   "execution_count": 2,
   "metadata": {
    "collapsed": false
   },
   "outputs": [
    {
     "name": "stderr",
     "output_type": "stream",
     "text": [
      "/Users/allendavis/anaconda/envs/py36/lib/python3.6/site-packages/astroML/time_series/periodogram.py:8: UserWarning: Using slow version of lomb_scargle. Install astroML_addons to use an optimized version\n",
      "  warnings.warn(\"Using slow version of lomb_scargle. Install astroML_addons \"\n"
     ]
    }
   ],
   "source": [
    "# Imports\n",
    "import sys\n",
    "import numpy as np\n",
    "import math\n",
    "import scipy as sp\n",
    "import scipy.signal\n",
    "from astroML.time_series import \\\n",
    "    lomb_scargle, lomb_scargle_BIC, lomb_scargle_bootstrap\n",
    "from astropy import units as u\n",
    "from astropy.time import Time\n",
    "from astropy.coordinates import SkyCoord, EarthLocation, AltAz, get_sun\n",
    "import pickle\n",
    "from time import strftime\n",
    "\n",
    "from RVOS_io import *\n",
    "from RVOS_Bodies import *\n",
    "from RVOS_Constants import *\n",
    "from RVOS_Observer import observeStar\n",
    "from RVOS_Orbit import calcTrueAnomaly, fitOrbits\n",
    "from RVOS_Plotter import *\n",
    "\n",
    "import warnings\n",
    "warnings.filterwarnings('ignore')\n",
    "\n",
    "%matplotlib inline\n",
    "\n",
    "\n",
    "try:\n",
    "    rvos_title_file = open('title_art.txt', 'r')\n",
    "    rvos_str = rvos_title_file.read()\n",
    "    rvos_title_file.close()\n",
    "except IOError:\n",
    "    pass\n",
    "\n",
    "plt.close()"
   ]
  },
  {
   "cell_type": "code",
   "execution_count": 3,
   "metadata": {
    "collapsed": false
   },
   "outputs": [],
   "source": [
    "# Determine FAP by drawing from the sampled velocities\n",
    "def bootstrap_FAP(star,freqList,niter,pgram,sigma):\n",
    "\n",
    "    max_powers = [float]*niter #contains max power of each iteration\n",
    "\n",
    "    RV_Obs_scram = np.copy(star.RV_Obs) #initialize\n",
    "    size = len(RV_Obs_scram)\n",
    "    \n",
    "    \n",
    "    assert pgram=='scipy' or pgram=='astroML' or pgram=='astroml',\\\n",
    "            \"pgram parameter must be set to either 'scipy' or 'astroML'.\"\n",
    "\n",
    "    for n in range(0,niter):\n",
    "        # Drawing randomly with replacement (bootstrap)\n",
    "        for m in range(0,size):\n",
    "            ind = int(size*np.random.random())\n",
    "            RV_Obs_scram[m] = star.RV_Obs[ind]\n",
    "\n",
    "        # periodogram; max power\n",
    "        if pgram == 'scipy':\n",
    "            P_G = sp.signal.lombscargle(np.array(star.obsList), np.array(RV_Obs_scram), freqList)\n",
    "        elif pgram == 'astroML' or pgram == 'astroml':\n",
    "            P_G = lomb_scargle(star.obsList, RV_Obs_scram, sigma, freqList, generalized=True)\n",
    "        max_powers[n] = max(P_G)\n",
    "\n",
    "    return np.sort(max_powers) #[lowest...highest]\n",
    "    \n",
    "\n",
    "# Returns the periodogram power corresponding to the given FAP (in percent)\n",
    "def calc_FAP_power(powers,FAP):\n",
    "    size = len(powers) #assumes sorted [lowest...highest]\n",
    "    \n",
    "    if FAP*size < 100:\n",
    "        print('WARNING: Too few iterations (%d) to accurately report FAP of %.2f%%' %(size,FAP))\n",
    "\n",
    "    index = (size-1) - (size*FAP/100.)\n",
    "    \n",
    "    if index != int(index):\n",
    "        print('WARNING: Requested FAP (%.2f%%) has been approximated to a nearby (and unknown) percentile'%FAP)\n",
    "    index = int(index)\n",
    "    return powers[index] #this is a numpy array, so index m.n = index m"
   ]
  },
  {
   "cell_type": "code",
   "execution_count": 4,
   "metadata": {
    "collapsed": true
   },
   "outputs": [],
   "source": [
    "def bootstrap_Keplerian(star,P_G,periodList,boot_niter,orbit_niter):\n",
    "    size = np.size(star.RV_fit)\n",
    "    fit0 = np.copy(star.RV_fit)\n",
    "    data = np.copy(star.RV_Obs)\n",
    "\n",
    "    boot_params = [[float]*6]*boot_niter #stores each iteration's params: [P,e,tp,w,K,msini]\n",
    "    \n",
    "    #take the fit and subtract from the data\n",
    "    resids = star.RV_Obs - fit0\n",
    "        \n",
    "    for n in range(0,boot_niter):\n",
    "        \n",
    "        #randomly draw from the residuals and add them to the original fit\n",
    "        new_resids = [resids[np.random.randint(0,size)] for _ in range(0,size)]\n",
    "        new_data = fit0 + new_resids\n",
    "\n",
    "        #fit this function and save the parameters    \n",
    "        new_params = fitOrbits(star,star.P_G,periodList,new_data,orbit_niter,flag=\"boot\")\n",
    "        boot_params[n] = new_params\n",
    "\n",
    "    return np.array(boot_params)\n",
    "\n",
    "\n",
    "def getUncs(star):\n",
    "    #expects numpy array for \"where\" function\n",
    "    \n",
    "    w = star.params_out[3]\n",
    "    ws = star.boot_params[:,3]\n",
    "    \n",
    "    if w < pi:\n",
    "        locs = np.where(ws > w+pi)\n",
    "        ws[locs] = ws[locs]-(2*pi)\n",
    "    else:\n",
    "        locs = np.where(ws < w-pi)\n",
    "        ws[locs] = ws[locs]+(2*pi)\n",
    "    \n",
    "    uncs = np.std(star.boot_params,axis=0) #correct for all but w\n",
    "    \n",
    "    # overwrite temp with correct std value for W\n",
    "    uncs[3] = np.std(ws)\n",
    "    \n",
    "    return uncs\n",
    "    "
   ]
  },
  {
   "cell_type": "code",
   "execution_count": 5,
   "metadata": {
    "collapsed": false
   },
   "outputs": [],
   "source": [
    "# With RVOS now supporting multiple planets, is it clear that it will be too cumbersome to specify every planetary parameter\n",
    "# in the Simulator call. I will adapt RVOS to run off of an external control file, but this will take some time to implement.\n",
    "# For now, planetary parameters must be specified explicitly. \"params_in\" will be of the form:\n",
    "# [[mass1,period1,ecc1,incl1,w1,tp],[mass2,period2,...],...]. Single planets must still be called in a nested list.\n",
    "\n",
    "class Simulator:\n",
    "    def __init__(self,nobs,sigma,\n",
    "                 jitter=0.0,massStar=1.0,\n",
    "                 params_in=[[10.,50.47,0.2,90.,None,None],[4.,13.37,0.4,90.,None,None]],\n",
    "                 t0=today,lat=34.7444,lng=-111.4222,ra=293.35647,dec=21.84033,\n",
    "                 t_res = 10.,objAltThres=40.,weather=0.8,saveSystemFile='',loadSystemFile='',\n",
    "                 observe='dum', fitOrbit='dum', find_FAP='dum', find_uncs='dum',\n",
    "                 pmin=0.1,pmax=500.,pres=0.01,pgram='astroML',\n",
    "                 ignorePeriods=[[0.8,1.2]],perThres=0.05,sortKey='period',\n",
    "                 FAP_levels=[1,5],threshold_FAP=1.0,FAP_niter=100,FAP_method='astroML',\n",
    "                 orbit_niter=100,boot_niter=100,abort_bad_fits=True,verbose=True):\n",
    "\n",
    "        loadSys = not loadSystemFile == ''\n",
    "        if loadSys:\n",
    "            # Default behavior is to not redo anything unless explicitly\n",
    "            # specified when the system is loaded.\n",
    "            if observe=='dum': observe=False\n",
    "            if fitOrbit=='dum': fitOrbit=False\n",
    "            if find_FAP=='dum': find_FAP=False\n",
    "            if find_uncs=='dum': find_uncs=False\n",
    "        else:\n",
    "            # Default behavior is to do everything unless explicitly\n",
    "            # told not to when the system is newly created.\n",
    "            if observe=='dum': observe=True\n",
    "            if fitOrbit=='dum': fitOrbit=True\n",
    "            if find_FAP=='dum': find_FAP=True\n",
    "            if find_uncs=='dum': find_uncs=True\n",
    "                \n",
    "        self.nobs = nobs #number of observations proposed (modulo weather)\n",
    "        self.sigma = sigma\n",
    "        self.std_True = np.sqrt(sigma**2 + jitter**2)\n",
    "        self.periodList = np.linspace(pmin,pmax,num=pmax/pres)\n",
    "        self.freqList = 2.* pi / self.periodList\n",
    "        \n",
    "        self.t_res = t_res\n",
    "        self.weather = weather\n",
    "        \n",
    "        self.params_in = params_in\n",
    "        nPlanets=np.size(params_in,axis=0)\n",
    "        \n",
    "        self.find_FAP = find_FAP\n",
    "        self.FAP_levels = FAP_levels\n",
    "        self.FAP_niter = FAP_niter\n",
    "        self.FAP_method = FAP_method\n",
    "        \n",
    "        self.find_uncs = find_uncs\n",
    "        self.abort_bad_fits = abort_bad_fits\n",
    "        self.boot_niter = boot_niter\n",
    "        \n",
    "        self.loc = EarthLocation.from_geodetic(lng,lat) # Discovery Channel Telescope by default\n",
    "\n",
    "        self.coord = SkyCoord(ra=ra*u.degree, dec=dec*u.degree) #HIP 96183 by default\n",
    "        starname = 'HIP 96183'\n",
    "\n",
    "        self.theDate = strftime(\"%Y-%m-%d\")\n",
    "        self.theTime = strftime(\"%H-%M-%S\")\n",
    "        \n",
    "        \n",
    "        ### BEGIN SIMULATION\n",
    "        \n",
    "        if loadSys:\n",
    "            # Load star and its planets\n",
    "            if verbose:\n",
    "                print(strftime(\"%H:%M:%S\"),'-- Loading system')\n",
    "                sys.stdout.flush()\n",
    "            star = loadSystem(loadSystemFile)\n",
    "            planets = star.planets\n",
    "        else:\n",
    "            # Create a star\n",
    "            if verbose:\n",
    "                print(strftime(\"%H:%M:%S\"),'-- Creating star')\n",
    "                sys.stdout.flush()\n",
    "            star = Star(massStar,t0,self.coord,sigma,planets=None,name=starname)\n",
    "            star.nPlanets = nPlanets\n",
    "        \n",
    "            # Create some planet objects with given astrophysical parameters\n",
    "            if verbose:\n",
    "                print(strftime(\"%H:%M:%S\"),'-- Creating planet(s)')\n",
    "                sys.stdout.flush()\n",
    "            assert nPlanets > 0,'Must be a positive, non-zero, number of planets.'\n",
    "            assert nPlanets < 5,'%d planets? Are you trying to blow up the computer?!? RVOS can probably handle up to 4.'%nPlanets\n",
    "            planets = [None]*nPlanets\n",
    "            for i in range(0,nPlanets):\n",
    "                pars = self.params_in[i]\n",
    "                planets[i] = Planet(star,pars[0],pars[1],pars[2],pars[3],pars[4],pars[5])\n",
    "            star.planets = planets\n",
    "            \n",
    "        # Sort planets by sort key if provided\n",
    "        if not sortKey == '':\n",
    "            star.planets = sortPlanets(star.planets,sortKey)\n",
    "            if not star.name == '':\n",
    "                for i in range(0,star.nPlanets):\n",
    "                    p = star.planets[i]\n",
    "                    p.name += chr(i+ord('b'))\n",
    "        \n",
    "        if observe:\n",
    "            # Create observations according to blind survey strategy\n",
    "            if loadSys: del star.obsList #clear the old obsList\n",
    "                \n",
    "            if verbose:\n",
    "                print(strftime(\"%H:%M:%S\"),'-- Observing star')\n",
    "                sys.stdout.flush()\n",
    "            observeStar(star,nobs,self.std_True,t0,self.coord,self.loc,self.t_res,objAltThres,weather)\n",
    "        \n",
    "        \n",
    "        # Make a LS periodogram of the observations\n",
    "        assert pgram=='scipy' or pgram=='astroML' or pgram=='astroml',\\\n",
    "            \"pgram parameter must be set to either 'scipy' or 'astroML'.\"\n",
    "\n",
    "        if pgram == 'scipy':\n",
    "            star.P_G = sp.signal.lombscargle(np.array(star.obsList), np.array(star.RV_Obs),self.freqList)\n",
    "        elif pgram == 'astroML' or pgram == 'astroml':\n",
    "            star.P_G = lomb_scargle(star.obsList, star.RV_Obs, sigma, self.freqList, generalized=True)\n",
    "        \n",
    "                \n",
    "                \n",
    "        if find_FAP:\n",
    "            # Find FAP levels by bootstrapping\n",
    "            if verbose:\n",
    "                print(strftime(\"%H:%M:%S\"),'-- Bootstrapping for FAP')\n",
    "                sys.stdout.flush()\n",
    "\n",
    "            if not FAP_method=='astroML' or not FAP_method=='astroml':\n",
    "                max_powers_sort = bootstrap_FAP(star,self.freqList,FAP_niter,pgram,sigma)\n",
    "                star.FAP_powers = [[float]*2]*len(FAP_levels) #set of ordered pairs: [[FAP lvl, power],...]\n",
    "                for n in range(0,len(star.FAP_powers)):\n",
    "                    lvl = FAP_levels[n]\n",
    "                    power = calc_FAP_power(max_powers_sort,lvl)\n",
    "                    star.FAP_powers[n] = lvl,power\n",
    "            else:\n",
    "                D_cf = lomb_scargle_bootstrap(star.obsList, star.RV_Obs, sigma, self.freqList, generalized=True,\n",
    "                                              N_bootstraps=1000, random_state=0)\n",
    "                sig_cf = []\n",
    "                for lvl in FAP_levels:\n",
    "                    sig_cf.append(np.percentile(D_cf,100-lvl))\n",
    "                star.FAP_powers = zip(FAP_levels,sig_cf) #tuple of (FAP level in %, power level)\n",
    "                                                         #e.g., (0.1,0.8)\n",
    "                \n",
    "        # Fit Keplerian to determine orbital parameters\n",
    "        if fitOrbit:\n",
    "            \n",
    "            try:\n",
    "                del p.uncs #clear old errors, lest they be read in later when outdated\n",
    "            except AttributeError:\n",
    "                pass\n",
    "                \n",
    "            if verbose:\n",
    "                print(strftime(\"%H:%M:%S\"),'-- Fitting Keplerian')\n",
    "                sys.stdout.flush()\n",
    "            fitOrbits(star,star.P_G,self.periodList,star.RV_Obs,orbit_niter,ignorePeriods=ignorePeriods,perThres=perThres)\n",
    "            if not sortKey == None:\n",
    "                star.planets_fit = sortPlanets(star.planets_fit,sortKey)\n",
    "                if not star.name == '':\n",
    "                    for i in range(0,star.nPlanets_fit):\n",
    "                        p = star.planets_fit[i]\n",
    "                        p.name += chr(i+ord('b'))\n",
    "        \n",
    "            # Determine whether the period is sufficiently close to the real period to decide if we should\n",
    "            # bother finding uncertainties\n",
    "            if self.find_uncs and abort_bad_fits:                \n",
    "                for i in range(0,nPlanets):\n",
    "                    p = planets[i]\n",
    "                    tag = str(i)\n",
    "                    p_ratio = p.period/p.params_LMfit['P'+tag]\n",
    "                    if not (0.9 < p_ratio < 1.1):\n",
    "                        # Abort finding uncertainties if the period is >|10%| wrong\n",
    "                        self.find_uncs = False\n",
    "                        if verbose:\n",
    "                            print(strftime(\"%H:%M:%S\"),'-- Uncertainties bootstrapping aborted: period fit is poor')\n",
    "                        break\n",
    "\n",
    "            # Calculate uncertainties in fitted parameters\n",
    "            if self.find_uncs:\n",
    "                if verbose:\n",
    "                    print(strftime(\"%H:%M:%S\"),'-- Bootstrapping for uncertainties')\n",
    "                    sys.stdout.flush()\n",
    "                star.boot_params = bootstrap_Keplerian(star,star.P_G,self.periodList,boot_niter,orbit_niter)\n",
    "                star.uncs = getUncs(star) \n",
    "            \n",
    "        \n",
    "        # Save star\n",
    "        self.star = star\n",
    "        \n",
    "        # Save everything\n",
    "        if not saveSystemFile==False:\n",
    "            # Save unless saveSystemFile set to False\n",
    "            if verbose:\n",
    "                print(strftime(\"%H:%M:%S\"),'-- Saving simulation parameters and outputs')\n",
    "                sys.stdout.flush()\n",
    "            saveSystem(star,planets,fname=saveSystemFile)\n",
    "\n",
    "        if verbose:\n",
    "            print(strftime(\"%H:%M:%S\"),'-- Simulation complete')\n",
    "            sys.stdout.flush()\n",
    "            \n",
    "        # Print output\n",
    "        if verbose:\n",
    "            printOutput(star)"
   ]
  },
  {
   "cell_type": "code",
   "execution_count": 6,
   "metadata": {
    "collapsed": true
   },
   "outputs": [],
   "source": [
    "def sortPlanets(planets,sortKey):\n",
    "    p = planets[0]\n",
    "    planet_tuples = [(p,p.period,p.mass,p.ecc)]\n",
    "    for i in range(1,np.size(planets)):\n",
    "        p = planets[i]\n",
    "        planet_tuples.append((p,p.period,p.mass,p.ecc,p.K))\n",
    "    \n",
    "    keys = {'period':1,'per':1,'p':1,\n",
    "            'mass':2,'msini':2,'m':2,\n",
    "            'eccentricity':3,'ecc':3,'e':3,\n",
    "            'k':4,'K':4,'semiamplitude':4,'amplitude':4}\n",
    "    \n",
    "    ind = keys.get(sortKey,None)\n",
    "    assert not ind == None,'Requested sortKey (%s) is currently unsupported'%sortKey\n",
    "    \n",
    "    sortedTuples = sorted(planet_tuples, key=lambda tup: tup[ind])\n",
    "    return [sortedTuples[i][0] for i in range(0,np.size(sortedTuples,axis=0))]"
   ]
  },
  {
   "cell_type": "code",
   "execution_count": 7,
   "metadata": {
    "collapsed": true
   },
   "outputs": [],
   "source": [
    "# Useful for finding the separation between observations, ignoring seasonal gaps\n",
    "def medianSep(arr):\n",
    "    seps = []\n",
    "    for n in range(0,np.size(arr)-1):\n",
    "        cur = arr[n]\n",
    "        nxt = arr[n+1]\n",
    "        seps = np.append(seps,nxt-cur)\n",
    "    return np.median(seps)"
   ]
  },
  {
   "cell_type": "code",
   "execution_count": 8,
   "metadata": {
    "collapsed": true
   },
   "outputs": [],
   "source": [
    "def eccDistrib(n,center=0.3,stdev=0.05):\n",
    "    # Default values based on fig 5 of Hogg, Myers, Bovy 2010\n",
    "    x = np.array([np.random.normal(loc=center,scale=stdev) for _ in range(0,n)])\n",
    "    badlocs = np.where((x>0) | (x>=1))\n",
    "    size = np.size(badlocs)\n",
    "\n",
    "    while(not size == 0):\n",
    "        newvals = np.array([np.random.normal(loc=0.3,scale=0.2) for _ in range(0,size)])\n",
    "        x[badlocs] = newvals\n",
    "        badlocs = np.where((x<0) | (x>=1))\n",
    "        size = np.size(badlocs)\n",
    "    return x"
   ]
  },
  {
   "cell_type": "code",
   "execution_count": 11,
   "metadata": {
    "collapsed": false,
    "scrolled": false
   },
   "outputs": [
    {
     "name": "stdout",
     "output_type": "stream",
     "text": [
      "Welcome to RVOS\n",
      "\n",
      "********* STAR SYSTEM 1 *********\n",
      "17:31:34 -- Creating star\n",
      "17:31:34 -- Creating planet(s)\n",
      "17:31:34 -- Observing star\n"
     ]
    },
    {
     "name": "stderr",
     "output_type": "stream",
     "text": [
      " 70%|███████   | 7/10 [00:01<00:00,  4.34it/s]"
     ]
    },
    {
     "name": "stdout",
     "output_type": "stream",
     "text": [
      "17:31:36 -- Bootstrapping for FAP\n"
     ]
    },
    {
     "name": "stderr",
     "output_type": "stream",
     "text": [
      "\n"
     ]
    },
    {
     "name": "stdout",
     "output_type": "stream",
     "text": [
      "17:31:40 -- Fitting Keplerian\n",
      "flag: None\n"
     ]
    },
    {
     "ename": "TypeError",
     "evalue": "can't multiply sequence by non-int of type 'float'",
     "output_type": "error",
     "traceback": [
      "\u001b[0;31m---------------------------------------------------------------------------\u001b[0m",
      "\u001b[0;31mTypeError\u001b[0m                                 Traceback (most recent call last)",
      "\u001b[0;32m<ipython-input-11-70385eb93078>\u001b[0m in \u001b[0;36m<module>\u001b[0;34m()\u001b[0m\n\u001b[1;32m     29\u001b[0m                     \u001b[0mboot_niter\u001b[0m\u001b[0;34m=\u001b[0m\u001b[0;36m100\u001b[0m\u001b[0;34m,\u001b[0m\u001b[0;31m#saveSystemFile=runName,\u001b[0m\u001b[0;34m\u001b[0m\u001b[0m\n\u001b[1;32m     30\u001b[0m                     \u001b[0mFAP_levels\u001b[0m\u001b[0;34m=\u001b[0m\u001b[0;34m[\u001b[0m\u001b[0;36m1.0\u001b[0m\u001b[0;34m,\u001b[0m\u001b[0;36m5.0\u001b[0m\u001b[0;34m]\u001b[0m\u001b[0;34m,\u001b[0m\u001b[0mFAP_niter\u001b[0m\u001b[0;34m=\u001b[0m\u001b[0;36m100\u001b[0m\u001b[0;34m,\u001b[0m\u001b[0mfind_uncs\u001b[0m\u001b[0;34m=\u001b[0m\u001b[0;32mFalse\u001b[0m\u001b[0;34m,\u001b[0m\u001b[0;34m\u001b[0m\u001b[0m\n\u001b[0;32m---> 31\u001b[0;31m                     abort_bad_fits=True)\n\u001b[0m\u001b[1;32m     32\u001b[0m \u001b[0;34m\u001b[0m\u001b[0m\n\u001b[1;32m     33\u001b[0m     makePlot(sim, save=str(n+1)+'_'+runName, fmt='png,pdf',\n",
      "\u001b[0;32m<ipython-input-5-7a008fa78c51>\u001b[0m in \u001b[0;36m__init__\u001b[0;34m(self, nobs, sigma, jitter, massStar, params_in, t0, lat, lng, ra, dec, t_res, objAltThres, weather, saveSystemFile, loadSystemFile, observe, fitOrbit, find_FAP, find_uncs, pmin, pmax, pres, pgram, ignorePeriods, perThres, sortKey, FAP_levels, threshold_FAP, FAP_niter, FAP_method, orbit_niter, boot_niter, abort_bad_fits, verbose)\u001b[0m\n\u001b[1;32m    152\u001b[0m                 \u001b[0mprint\u001b[0m\u001b[0;34m(\u001b[0m\u001b[0mstrftime\u001b[0m\u001b[0;34m(\u001b[0m\u001b[0;34m\"%H:%M:%S\"\u001b[0m\u001b[0;34m)\u001b[0m\u001b[0;34m,\u001b[0m\u001b[0;34m'-- Fitting Keplerian'\u001b[0m\u001b[0;34m)\u001b[0m\u001b[0;34m\u001b[0m\u001b[0m\n\u001b[1;32m    153\u001b[0m                 \u001b[0msys\u001b[0m\u001b[0;34m.\u001b[0m\u001b[0mstdout\u001b[0m\u001b[0;34m.\u001b[0m\u001b[0mflush\u001b[0m\u001b[0;34m(\u001b[0m\u001b[0;34m)\u001b[0m\u001b[0;34m\u001b[0m\u001b[0m\n\u001b[0;32m--> 154\u001b[0;31m             \u001b[0mfitOrbits\u001b[0m\u001b[0;34m(\u001b[0m\u001b[0mstar\u001b[0m\u001b[0;34m,\u001b[0m\u001b[0mstar\u001b[0m\u001b[0;34m.\u001b[0m\u001b[0mP_G\u001b[0m\u001b[0;34m,\u001b[0m\u001b[0mself\u001b[0m\u001b[0;34m.\u001b[0m\u001b[0mperiodList\u001b[0m\u001b[0;34m,\u001b[0m\u001b[0mstar\u001b[0m\u001b[0;34m.\u001b[0m\u001b[0mRV_Obs\u001b[0m\u001b[0;34m,\u001b[0m\u001b[0morbit_niter\u001b[0m\u001b[0;34m,\u001b[0m\u001b[0mignorePeriods\u001b[0m\u001b[0;34m=\u001b[0m\u001b[0mignorePeriods\u001b[0m\u001b[0;34m,\u001b[0m\u001b[0mperThres\u001b[0m\u001b[0;34m=\u001b[0m\u001b[0mperThres\u001b[0m\u001b[0;34m)\u001b[0m\u001b[0;34m\u001b[0m\u001b[0m\n\u001b[0m\u001b[1;32m    155\u001b[0m             \u001b[0;32mif\u001b[0m \u001b[0;32mnot\u001b[0m \u001b[0msortKey\u001b[0m \u001b[0;34m==\u001b[0m \u001b[0;32mNone\u001b[0m\u001b[0;34m:\u001b[0m\u001b[0;34m\u001b[0m\u001b[0m\n\u001b[1;32m    156\u001b[0m                 \u001b[0mstar\u001b[0m\u001b[0;34m.\u001b[0m\u001b[0mplanets_fit\u001b[0m \u001b[0;34m=\u001b[0m \u001b[0msortPlanets\u001b[0m\u001b[0;34m(\u001b[0m\u001b[0mstar\u001b[0m\u001b[0;34m.\u001b[0m\u001b[0mplanets_fit\u001b[0m\u001b[0;34m,\u001b[0m\u001b[0msortKey\u001b[0m\u001b[0;34m)\u001b[0m\u001b[0;34m\u001b[0m\u001b[0m\n",
      "\u001b[0;32m/Users/allendavis/Research/RVOS/RVOS/RVOS/RVOS_Orbit.py\u001b[0m in \u001b[0;36mfitOrbits\u001b[0;34m(star, P_G, periodList, obs_data, niter, n_pls, guesses, ignorePeriods, perThres, flag)\u001b[0m\n\u001b[1;32m    137\u001b[0m \u001b[0;34m\u001b[0m\u001b[0m\n\u001b[1;32m    138\u001b[0m         \u001b[0;32massert\u001b[0m \u001b[0mtype\u001b[0m\u001b[0;34m(\u001b[0m\u001b[0mignorePeriods\u001b[0m\u001b[0;34m)\u001b[0m \u001b[0;32mis\u001b[0m \u001b[0mlist\u001b[0m \u001b[0;32mand\u001b[0m\u001b[0;31m \u001b[0m\u001b[0;31m\\\u001b[0m\u001b[0;34m\u001b[0m\u001b[0m\n\u001b[0;32m--> 139\u001b[0;31m         \u001b[0;34m[\u001b[0m\u001b[0mnp\u001b[0m\u001b[0;34m.\u001b[0m\u001b[0msize\u001b[0m\u001b[0;34m(\u001b[0m\u001b[0mel\u001b[0m\u001b[0;34m)\u001b[0m \u001b[0;32mfor\u001b[0m \u001b[0mel\u001b[0m \u001b[0;32min\u001b[0m \u001b[0mignorePeriods\u001b[0m\u001b[0;34m]\u001b[0m \u001b[0;34m==\u001b[0m \u001b[0;34m[\u001b[0m\u001b[0;36m2\u001b[0m\u001b[0;34m]\u001b[0m\u001b[0;34m*\u001b[0m\u001b[0;34m(\u001b[0m\u001b[0mint\u001b[0m\u001b[0;34m(\u001b[0m\u001b[0mnp\u001b[0m\u001b[0;34m.\u001b[0m\u001b[0msize\u001b[0m\u001b[0;34m(\u001b[0m\u001b[0mignorePeriods\u001b[0m\u001b[0;34m)\u001b[0m\u001b[0;34m/\u001b[0m\u001b[0;36m2\u001b[0m\u001b[0;34m)\u001b[0m\u001b[0;34m)\u001b[0m\u001b[0;34m,\u001b[0m\u001b[0;31m\\\u001b[0m\u001b[0;34m\u001b[0m\u001b[0m\n\u001b[0m\u001b[1;32m    140\u001b[0m         \u001b[0;34m'ignorePeriods must be of the form: [[min,max],[mix,max],...].'\u001b[0m\u001b[0;34m\u001b[0m\u001b[0m\n\u001b[1;32m    141\u001b[0m \u001b[0;34m\u001b[0m\u001b[0m\n",
      "\u001b[0;31mTypeError\u001b[0m: can't multiply sequence by non-int of type 'float'"
     ]
    }
   ],
   "source": [
    "#### RUN ME HERE\n",
    "\n",
    "iters = 1\n",
    "sims = [None]*iters #store sims for later referencing\n",
    "eccs = eccDistrib(iters)\n",
    "\n",
    "try:\n",
    "    tmp = rvos_str\n",
    "    print('Welcome to')\n",
    "    print(rvos_str)\n",
    "    sys.stdout.flush()\n",
    "except NameError:\n",
    "    print('Welcome to RVOS')\n",
    "\n",
    "    \n",
    "for n in range(0,iters):\n",
    "    plt.close()\n",
    "    \n",
    "    print('\\n********* STAR SYSTEM %d *********'%(n+1))\n",
    "    sys.stdout.flush()\n",
    "    \n",
    "    runName = 'echo_replot'\n",
    "    \n",
    "    sim = Simulator(10,0.2,perThres=0.05,massStar=1.0,ignorePeriods=[[0,20]],\n",
    "                    params_in=[[5.,342.114,0.24,90.,None,None],\n",
    "                               [3.,224.701,0.37,90.,None,None]\n",
    "                              ],objAltThres=50.,#loadSystemFile='echo_11-02-37.txt',\n",
    "                    observe='dum',fitOrbit=True,find_FAP=True,\n",
    "                    boot_niter=100,#saveSystemFile=runName,\n",
    "                    FAP_levels=[1.0,5.0],FAP_niter=100,find_uncs=False,\n",
    "                    abort_bad_fits=True)\n",
    "\n",
    "    makePlot(sim, save=str(n+1)+'_'+runName, fmt='png,pdf',\n",
    "            linestyle='solid', quiet=False)\n",
    "    sims[n] = sim\n",
    "    plt.close()\n"
   ]
  },
  {
   "cell_type": "code",
   "execution_count": null,
   "metadata": {
    "collapsed": true
   },
   "outputs": [],
   "source": []
  },
  {
   "cell_type": "code",
   "execution_count": null,
   "metadata": {
    "collapsed": false,
    "scrolled": false
   },
   "outputs": [],
   "source": [
    "# plt.close()\n",
    "# makePlot(sims[0])\n",
    "# plt.close()"
   ]
  },
  {
   "cell_type": "code",
   "execution_count": null,
   "metadata": {
    "collapsed": false
   },
   "outputs": [],
   "source": [
    "# plt.close()\n",
    "# star = sims[0].star\n",
    "# makePhasePlot(star)\n",
    "# plt.close()"
   ]
  },
  {
   "cell_type": "code",
   "execution_count": null,
   "metadata": {
    "collapsed": false
   },
   "outputs": [],
   "source": [
    "# print medianSep(sims[0].planet.obsList)"
   ]
  },
  {
   "cell_type": "code",
   "execution_count": null,
   "metadata": {
    "collapsed": false
   },
   "outputs": [],
   "source": [
    "# f=open('sim1.pckl','wb')\n",
    "# star = sims[0]\n",
    "# pickle.dump(star,f)\n",
    "# f.close()\n"
   ]
  },
  {
   "cell_type": "code",
   "execution_count": null,
   "metadata": {
    "collapsed": false
   },
   "outputs": [],
   "source": [
    "# f = open('sim1.pckl','r')\n",
    "# star = pickle.load(f)\n",
    "\n",
    "\n",
    "# # Saving the objects:\n",
    "# with open('objs.pickle', 'w') as f:\n",
    "#     pickle.dump([obj0, obj1, obj2], f)\n",
    "\n",
    "# # Getting back the objects:\n",
    "# with open('sim1.pckl') as f:\n",
    "#     star = pickle.load(f)\n"
   ]
  },
  {
   "cell_type": "code",
   "execution_count": null,
   "metadata": {
    "collapsed": true
   },
   "outputs": [],
   "source": []
  }
 ],
 "metadata": {
  "kernelspec": {
   "display_name": "Python 3",
   "language": "python",
   "name": "python3"
  },
  "language_info": {
   "codemirror_mode": {
    "name": "ipython",
    "version": 3
   },
   "file_extension": ".py",
   "mimetype": "text/x-python",
   "name": "python",
   "nbconvert_exporter": "python",
   "pygments_lexer": "ipython3",
   "version": "3.6.1"
  }
 },
 "nbformat": 4,
 "nbformat_minor": 0
}
