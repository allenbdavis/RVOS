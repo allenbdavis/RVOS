{
 "cells": [
  {
   "cell_type": "code",
   "execution_count": 1,
   "metadata": {
    "collapsed": false
   },
   "outputs": [
    {
     "name": "stdout",
     "output_type": "stream",
     "text": [
      "Exact   integral: 2.0\n",
      "Approx integral1: 2.64337497492\n",
      "Approx integral2: 2.00002047861\n"
     ]
    }
   ],
   "source": [
    "import matplotlib.pyplot as plt\n",
    "import scipy\n",
    "from scipy.optimize import curve_fit, minimize, leastsq\n",
    "from scipy.integrate import quad\n",
    "from scipy import pi, sin\n",
    "x = scipy.linspace(0, pi, 100)\n",
    "y = scipy.sin(x) + (0. + scipy.rand(len(x))*0.4)\n",
    "def func1(x, a0, a1, a2, a3):\n",
    "    return a0 + a1*x + a2*x**2 + a3*x**3\n",
    "\n",
    "# here you include the penalization factor\n",
    "def residuals(p,x,y):\n",
    "    integral = quad( func1, 0, pi, args=(p[0],p[1],p[2],p[3]))[0]\n",
    "    penalization = abs(2.-integral)*10000\n",
    "    return y - func1(x, p[0],p[1],p[2],p[3]) - penalization\n",
    "\n",
    "popt1, pcov1 = curve_fit( func1, x, y )\n",
    "popt2, pcov2 = leastsq(func=residuals, x0=(1.,1.,1.,1.), args=(x,y))\n",
    "y_fit1 = func1(x, *popt1)\n",
    "y_fit2 = func1(x, *popt2)\n",
    "plt.scatter(x,y, marker='.')\n",
    "plt.plot(x,y_fit1, color='g', label='curve_fit')\n",
    "plt.plot(x,y_fit2, color='y', label='constrained')\n",
    "plt.legend(); plt.xlim(-0.1,3.5); plt.ylim(0,1.4)\n",
    "print 'Exact   integral:',quad(sin ,0,pi)[0]\n",
    "print 'Approx integral1:',quad(func1,0,pi,args=(popt1[0],popt1[1],\n",
    "                                                popt1[2],popt1[3]))[0]\n",
    "print 'Approx integral2:',quad(func1,0,pi,args=(popt2[0],popt2[1],\n",
    "                                                popt2[2],popt2[3]))[0]\n",
    "plt.show()\n"
   ]
  },
  {
   "cell_type": "code",
   "execution_count": null,
   "metadata": {
    "collapsed": true
   },
   "outputs": [],
   "source": []
  }
 ],
 "metadata": {
  "kernelspec": {
   "display_name": "Python 2",
   "language": "python",
   "name": "python2"
  },
  "language_info": {
   "codemirror_mode": {
    "name": "ipython",
    "version": 2
   },
   "file_extension": ".py",
   "mimetype": "text/x-python",
   "name": "python",
   "nbconvert_exporter": "python",
   "pygments_lexer": "ipython2",
   "version": "2.7.6"
  }
 },
 "nbformat": 4,
 "nbformat_minor": 0
}
